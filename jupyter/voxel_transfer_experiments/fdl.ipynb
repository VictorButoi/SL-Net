{
 "cells": [
  {
   "cell_type": "code",
   "execution_count": 1,
   "metadata": {},
   "outputs": [],
   "source": [
    "from general_vxm_utils import *\n",
    "\n",
    "full_train_file = '/home/vib9/src/SL-Net/jupyter/partitions/train.txt'\n",
    "full_val_file = '/home/vib9/src/SL-Net/jupyter/partitions/val.txt'\n",
    "scarce_train_file = '/home/vib9/src/SL-Net/jupyter/partitions/scarce_train.txt'\n",
    "\n",
    "device = torch.device('cuda' if torch.cuda.is_available() else 'cpu')\n",
    "\n",
    "target_label_numbers = [2.0, 3.0, 16.0, 41.0, 42.0]"
   ]
  },
  {
   "cell_type": "code",
   "execution_count": 2,
   "metadata": {},
   "outputs": [],
   "source": [
    "\"\"\"\n",
    "Setup vanilla UNet\n",
    "\"\"\"\n",
    "\n",
    "enc_nf = [128, 128, 128, 128]\n",
    "dec_nf = [128, 128, 128, 128]\n",
    "\n",
    "model1 = UNet(input_ch=1, \n",
    "              out_ch=6, \n",
    "              enc_nf=enc_nf, \n",
    "              dec_nf=dec_nf)"
   ]
  },
  {
   "cell_type": "code",
   "execution_count": 3,
   "metadata": {},
   "outputs": [
    {
     "data": {
      "text/plain": [
       "'\\ntrain_soft1, val_scores1, train_vars1, val_vars1 = train_net(model1,\\n                                                            1,\\n                                                            32,\\n                                                            1e-4,\\n                                                            target_label_numbers,\\n                                                            train_path=full_train_file,\\n                                                            val_path=full_val_file)\\n\\nsave_results(model1, train_soft1, val_scores1, train_vars1, val_vars1, \"default-train\")\\n'"
      ]
     },
     "execution_count": 3,
     "metadata": {},
     "output_type": "execute_result"
    }
   ],
   "source": [
    "\"\"\"\n",
    "Train the vanilla UNet just to make sure that we are alright with our model and data\n",
    "\"\"\"\n",
    "\"\"\"\n",
    "train_soft1, val_scores1, train_vars1, val_vars1 = train_net(model1,\n",
    "                                                            1,\n",
    "                                                            32,\n",
    "                                                            1e-4,\n",
    "                                                            target_label_numbers,\n",
    "                                                            train_path=full_train_file,\n",
    "                                                            val_path=full_val_file)\n",
    "\n",
    "save_results(model1, train_soft1, val_scores1, train_vars1, val_vars1, \"default-train\")\n",
    "\"\"\""
   ]
  },
  {
   "cell_type": "code",
   "execution_count": 4,
   "metadata": {},
   "outputs": [],
   "source": [
    "\"\"\"\n",
    "Setup SLN UNet\n",
    "\"\"\"\n",
    "\n",
    "model2 = SLN_UNet(input_ch=1, \n",
    "                  out_ch=6, \n",
    "                  superblock_size=256, \n",
    "                  depth=4, \n",
    "                  W=None, \n",
    "                  b=None, \n",
    "                  train_block=True)"
   ]
  },
  {
   "cell_type": "code",
   "execution_count": 5,
   "metadata": {},
   "outputs": [
    {
     "data": {
      "text/plain": [
       "'\\ntrain_soft2, val_scores2, train_vars2, val_vars2 = train_net(model2,\\n                                                        1,\\n                                                        32,\\n                                                        1e-4,\\n                                                        target_label_numbers,\\n                                                        train_path=full_train_file,\\n                                                        val_path=full_val_file)\\n\\nsave_results(model2, train_soft2, val_scores2, train_vars2, val_vars2, \"sln\")\\n\\nnp.save(\"/home/vib9/src/SL-Net/superlayer/models/superblocks/sln_W\", model2.super_block.W.cpu().data)\\nprint(\"Saved weight to: /home/vib9/src/SL-Net/superlayer/models/superblocks/sln_W.npy!\")\\nnp.save(\"/home/vib9/src/SL-Net/superlayer/models/superblocks/sln_b\", model2.super_block.b.cpu().data)\\nprint(\"Saved weight to: /home/vib9/src/SL-Net/superlayer/models/superblocks/sln_b.npy!\")\\n'"
      ]
     },
     "execution_count": 5,
     "metadata": {},
     "output_type": "execute_result"
    }
   ],
   "source": [
    "\"\"\"\n",
    "Train the vanilla UNet just to make sure that we are alright with our model and data\n",
    "\"\"\"\n",
    "\"\"\"\n",
    "train_soft2, val_scores2, train_vars2, val_vars2 = train_net(model2,\n",
    "                                                        1,\n",
    "                                                        32,\n",
    "                                                        1e-4,\n",
    "                                                        target_label_numbers,\n",
    "                                                        train_path=full_train_file,\n",
    "                                                        val_path=full_val_file)\n",
    "\n",
    "save_results(model2, train_soft2, val_scores2, train_vars2, val_vars2, \"sln\")\n",
    "\n",
    "np.save(\"/home/vib9/src/SL-Net/superlayer/models/superblocks/sln_W\", model2.super_block.W.cpu().data)\n",
    "print(\"Saved weight to: /home/vib9/src/SL-Net/superlayer/models/superblocks/sln_W.npy!\")\n",
    "np.save(\"/home/vib9/src/SL-Net/superlayer/models/superblocks/sln_b\", model2.super_block.b.cpu().data)\n",
    "print(\"Saved weight to: /home/vib9/src/SL-Net/superlayer/models/superblocks/sln_b.npy!\")\n",
    "\"\"\""
   ]
  },
  {
   "cell_type": "code",
   "execution_count": 6,
   "metadata": {},
   "outputs": [
    {
     "data": {
      "image/png": "[encoded data removed]",
      "text/plain": [
       "<Figure size 1080x360 with 2 Axes>"
      ]
     },
     "metadata": {
      "needs_background": "light"
     },
     "output_type": "display_data"
    }
   ],
   "source": [
    "plot_subplot_array(\"default-train\", \n",
    "                   \"sln\", \n",
    "                   [0, 1.1], \n",
    "                   [\"Default\", \"sln\"])"
   ]
  },
  {
   "cell_type": "code",
   "execution_count": 7,
   "metadata": {},
   "outputs": [],
   "source": [
    "\"\"\"\n",
    "Setup SLN UNet\n",
    "\"\"\"\n",
    "weight3 = np.load(\"/home/vib9/src/SL-Net/superlayer/models/superblocks/sln_W.npy\")\n",
    "bias3 = np.load(\"/home/vib9/src/SL-Net/superlayer/models/superblocks/sln_b.npy\")\n",
    " \n",
    "model3 = SLN_UNet(input_ch=1, \n",
    "                  out_ch=6, \n",
    "                  superblock_size=256, \n",
    "                  depth=4, \n",
    "                  W=weight3, \n",
    "                  b=bias3, \n",
    "                  train_block=False,\n",
    "                  retrain=True)"
   ]
  },
  {
   "cell_type": "code",
   "execution_count": 8,
   "metadata": {},
   "outputs": [
    {
     "name": "stderr",
     "output_type": "stream",
     "text": [
      "INFO: Creating dataset with 5865 examples\n",
      "INFO: Creating dataset with 732 examples\n",
      "Epoch 1/1:   0%|          | 0/5865 [00:00<?, ?img/s]\n",
      "Validation round:   0%|          | 0/732 [00:00<?, ?batch/s]\u001b[A\n",
      "Validation round:   0%|          | 1/732 [00:00<05:45,  2.11batch/s]\u001b[A\n",
      "Validation round:   2%|▏         | 15/732 [00:00<03:59,  3.00batch/s]\u001b[A\n",
      "Validation round:   3%|▎         | 23/732 [00:00<02:48,  4.21batch/s]\u001b[A\n",
      "Validation round:   5%|▍         | 34/732 [00:00<01:57,  5.92batch/s]\u001b[A\n",
      "Validation round:   7%|▋         | 48/732 [00:00<01:22,  8.30batch/s]\u001b[A\n",
      "Validation round:   8%|▊         | 57/732 [00:00<00:59, 11.38batch/s]\u001b[A\n",
      "Validation round:   9%|▉         | 69/732 [00:01<00:42, 15.61batch/s]\u001b[A\n",
      "Validation round:  11%|█         | 79/732 [00:01<00:31, 20.90batch/s]\u001b[A\n",
      "Validation round:  12%|█▏        | 91/732 [00:01<00:23, 27.68batch/s]\u001b[A\n",
      "Validation round:  14%|█▍        | 102/732 [00:01<00:18, 34.96batch/s]\u001b[A\n",
      "Validation round:  16%|█▌        | 117/732 [00:01<00:13, 45.31batch/s]\u001b[A\n",
      "Validation round:  18%|█▊        | 129/732 [00:01<00:10, 55.52batch/s]\u001b[A\n",
      "Validation round:  19%|█▉        | 141/732 [00:01<00:09, 63.57batch/s]\u001b[A\n",
      "Validation round:  21%|██▏       | 156/732 [00:01<00:07, 76.65batch/s]\u001b[A\n",
      "Validation round:  23%|██▎       | 171/732 [00:01<00:06, 89.18batch/s]\u001b[A\n",
      "Validation round:  26%|██▌       | 187/732 [00:02<00:05, 102.40batch/s]\u001b[A\n",
      "Validation round:  28%|██▊       | 205/732 [00:02<00:04, 117.18batch/s]\u001b[A\n",
      "Validation round:  30%|███       | 221/732 [00:02<00:04, 126.35batch/s]\u001b[A\n",
      "Validation round:  33%|███▎      | 238/732 [00:02<00:03, 132.94batch/s]\u001b[A\n",
      "Validation round:  35%|███▍      | 254/732 [00:02<00:03, 133.67batch/s]\u001b[A\n",
      "Validation round:  37%|███▋      | 272/732 [00:02<00:03, 143.71batch/s]\u001b[A\n",
      "Validation round:  39%|███▉      | 288/732 [00:02<00:02, 148.10batch/s]\u001b[A\n",
      "Validation round:  42%|████▏     | 304/732 [00:02<00:03, 142.39batch/s]\u001b[A\n",
      "Validation round:  44%|████▎     | 319/732 [00:02<00:02, 143.01batch/s]\u001b[A\n",
      "Validation round:  46%|████▌     | 334/732 [00:03<00:02, 138.14batch/s]\u001b[A\n",
      "Validation round:  48%|████▊     | 350/732 [00:03<00:02, 141.58batch/s]\u001b[A\n",
      "Validation round:  50%|████▉     | 365/732 [00:03<00:02, 140.63batch/s]\u001b[A\n",
      "Validation round:  52%|█████▏    | 380/732 [00:03<00:02, 140.91batch/s]\u001b[A\n",
      "Validation round:  54%|█████▍    | 397/732 [00:03<00:02, 146.36batch/s]\u001b[A\n",
      "Validation round:  57%|█████▋    | 415/732 [00:03<00:02, 154.48batch/s]\u001b[A\n",
      "Validation round:  59%|█████▉    | 431/732 [00:03<00:01, 154.93batch/s]\u001b[A\n",
      "Validation round:  61%|██████    | 447/732 [00:03<00:01, 151.33batch/s]\u001b[A\n",
      "Validation round:  63%|██████▎   | 463/732 [00:03<00:01, 152.69batch/s]\u001b[A\n",
      "Validation round:  66%|██████▌   | 480/732 [00:03<00:01, 156.46batch/s]\u001b[A\n",
      "Validation round:  68%|██████▊   | 496/732 [00:04<00:01, 157.33batch/s]\u001b[A\n",
      "Validation round:  70%|███████   | 513/732 [00:04<00:01, 160.36batch/s]\u001b[A\n",
      "Validation round:  72%|███████▏  | 530/732 [00:04<00:01, 142.99batch/s]\u001b[A\n",
      "Validation round:  74%|███████▍  | 545/732 [00:04<00:01, 136.66batch/s]\u001b[A\n",
      "Validation round:  77%|███████▋  | 564/732 [00:04<00:01, 147.60batch/s]\u001b[A\n",
      "Validation round:  80%|███████▉  | 583/732 [00:04<00:00, 157.01batch/s]\u001b[A\n",
      "Validation round:  82%|████████▏ | 600/732 [00:04<00:00, 143.40batch/s]\u001b[A\n",
      "Validation round:  84%|████████▍ | 615/732 [00:04<00:00, 134.95batch/s]\u001b[A\n",
      "Validation round:  86%|████████▌ | 630/732 [00:05<00:00, 137.93batch/s]\u001b[A\n",
      "Validation round:  88%|████████▊ | 647/732 [00:05<00:00, 145.07batch/s]\u001b[A\n",
      "Validation round:  91%|█████████ | 664/732 [00:05<00:00, 151.13batch/s]\u001b[A\n",
      "Validation round:  93%|█████████▎| 682/732 [00:05<00:00, 154.33batch/s]\u001b[A\n",
      "Validation round:  95%|█████████▌| 698/732 [00:05<00:00, 136.68batch/s]\u001b[A\n",
      "Validation round:  97%|█████████▋| 713/732 [00:05<00:00, 134.15batch/s]\u001b[A\n",
      "                                                                       \u001b[AINFO: Validation Dice Loss: 0.9498730037188713\n",
      "Epoch 1/1:  25%|██▍       | 1440/5865 [00:13<00:28, 157.25img/s, loss (batch)=0.83] \n",
      "Validation round:   0%|          | 0/732 [00:00<?, ?batch/s]\u001b[A\n",
      "Validation round:   0%|          | 1/732 [00:00<05:47,  2.10batch/s]\u001b[A\n",
      "Validation round:   1%|          | 7/732 [00:00<04:05,  2.96batch/s]\u001b[A\n",
      "Validation round:   3%|▎         | 22/732 [00:00<02:49,  4.19batch/s]\u001b[A\n",
      "Validation round:   5%|▌         | 37/732 [00:00<01:57,  5.91batch/s]\u001b[A\n",
      "Validation round:   7%|▋         | 52/732 [00:00<01:22,  8.29batch/s]\u001b[A\n",
      "Validation round:   9%|▉         | 67/732 [00:00<00:57, 11.55batch/s]\u001b[A\n",
      "Validation round:  11%|█         | 79/732 [00:01<00:41, 15.79batch/s]\u001b[A\n",
      "Validation round:  12%|█▏        | 91/732 [00:01<00:30, 21.16batch/s]\u001b[A\n",
      "Validation round:  14%|█▍        | 102/732 [00:01<00:22, 27.78batch/s]\u001b[A\n",
      "Validation round:  16%|█▌        | 116/732 [00:01<00:16, 36.33batch/s]\u001b[A\n",
      "Validation round:  17%|█▋        | 128/732 [00:01<00:13, 45.91batch/s]\u001b[A\n",
      "Validation round:  20%|█▉        | 143/732 [00:01<00:10, 57.93batch/s]\u001b[A\n",
      "Validation round:  21%|██▏       | 156/732 [00:01<00:08, 67.77batch/s]\u001b[A\n",
      "Validation round:  23%|██▎       | 169/732 [00:01<00:07, 76.90batch/s]\u001b[A\n",
      "Validation round:  25%|██▌       | 183/732 [00:01<00:06, 88.44batch/s]\u001b[A\n",
      "Validation round:  27%|██▋       | 198/732 [00:02<00:05, 100.06batch/s]\u001b[A\n",
      "Validation round:  29%|██▉       | 212/732 [00:02<00:04, 107.53batch/s]\u001b[A\n",
      "Validation round:  31%|███       | 228/732 [00:02<00:04, 118.55batch/s]\u001b[A\n",
      "Validation round:  33%|███▎      | 243/732 [00:02<00:04, 121.86batch/s]\u001b[A\n",
      "Validation round:  35%|███▌      | 257/732 [00:02<00:03, 126.27batch/s]\u001b[A\n",
      "Validation round:  37%|███▋      | 273/732 [00:02<00:03, 134.11batch/s]\u001b[A\n",
      "Validation round:  40%|███▉      | 291/732 [00:02<00:03, 137.60batch/s]\u001b[A\n",
      "Validation round:  42%|████▏     | 307/732 [00:02<00:02, 143.53batch/s]\u001b[A\n",
      "Validation round:  44%|████▍     | 322/732 [00:02<00:02, 137.82batch/s]\u001b[A\n",
      "Validation round:  46%|████▌     | 337/732 [00:03<00:02, 138.56batch/s]\u001b[A\n",
      "Validation round:  48%|████▊     | 352/732 [00:03<00:02, 141.06batch/s]\u001b[A\n",
      "Validation round:  50%|█████     | 367/732 [00:03<00:02, 141.04batch/s]\u001b[A\n",
      "Validation round:  53%|█████▎    | 385/732 [00:03<00:02, 149.00batch/s]\u001b[A\n",
      "Validation round:  55%|█████▍    | 402/732 [00:03<00:02, 151.81batch/s]\u001b[A\n",
      "Validation round:  57%|█████▋    | 418/732 [00:03<00:02, 152.60batch/s]\u001b[A\n",
      "Validation round:  60%|█████▉    | 437/732 [00:03<00:01, 160.79batch/s]\u001b[A\n",
      "Validation round:  62%|██████▏   | 456/732 [00:03<00:01, 168.16batch/s]\u001b[A\n",
      "Validation round:  65%|██████▍   | 475/732 [00:03<00:01, 174.07batch/s]\u001b[A\n",
      "Validation round:  68%|██████▊   | 495/732 [00:03<00:01, 179.03batch/s]\u001b[A\n",
      "Validation round:  70%|███████   | 515/732 [00:04<00:01, 182.68batch/s]\u001b[A\n",
      "Validation round:  73%|███████▎  | 534/732 [00:04<00:01, 183.64batch/s]\u001b[A\n",
      "Validation round:  76%|███████▌  | 554/732 [00:04<00:00, 186.25batch/s]\u001b[A\n",
      "Validation round:  78%|███████▊  | 573/732 [00:04<00:00, 182.56batch/s]\u001b[A\n",
      "Validation round:  81%|████████  | 592/732 [00:04<00:00, 181.08batch/s]\u001b[A\n",
      "Validation round:  84%|████████▎ | 612/732 [00:04<00:00, 184.84batch/s]\u001b[A\n",
      "Validation round:  86%|████████▌ | 631/732 [00:04<00:00, 184.22batch/s]\u001b[A\n",
      "Validation round:  89%|████████▉ | 650/732 [00:04<00:00, 184.76batch/s]\u001b[A\n",
      "Validation round:  91%|█████████▏| 669/732 [00:04<00:00, 181.94batch/s]\u001b[A\n",
      "Validation round:  94%|█████████▍| 689/732 [00:05<00:00, 186.34batch/s]\u001b[A\n",
      "Validation round:  97%|█████████▋| 709/732 [00:05<00:00, 188.42batch/s]\u001b[A\n",
      "Validation round:  99%|█████████▉| 728/732 [00:05<00:00, 185.00batch/s]\u001b[A\n",
      "                                                                       \u001b[AINFO: Validation Dice Loss: 0.9468089283701757\n",
      "Epoch 1/1:  49%|████▉     | 2880/5865 [00:25<00:17, 168.20img/s, loss (batch)=0.823]\n",
      "Validation round:   0%|          | 0/732 [00:00<?, ?batch/s]\u001b[A\n",
      "Validation round:   0%|          | 1/732 [00:00<05:05,  2.39batch/s]\u001b[A\n",
      "Validation round:   1%|          | 6/732 [00:00<03:37,  3.34batch/s]\u001b[A\n",
      "Validation round:   3%|▎         | 20/732 [00:00<02:30,  4.73batch/s]\u001b[A\n",
      "Validation round:   5%|▍         | 36/732 [00:00<01:44,  6.67batch/s]\u001b[A\n",
      "Validation round:   7%|▋         | 51/732 [00:00<01:12,  9.34batch/s]\u001b[A\n",
      "Validation round:   9%|▊         | 64/732 [00:00<00:51, 12.91batch/s]\u001b[A\n"
     ]
    },
    {
     "name": "stderr",
     "output_type": "stream",
     "text": [
      "Validation round:  11%|█         | 79/732 [00:01<00:36, 17.78batch/s]\u001b[A\n",
      "Validation round:  13%|█▎        | 97/732 [00:01<00:26, 24.32batch/s]\u001b[A\n",
      "Validation round:  15%|█▌        | 112/732 [00:01<00:19, 32.45batch/s]\u001b[A\n",
      "Validation round:  17%|█▋        | 126/732 [00:01<00:14, 41.62batch/s]\u001b[A\n",
      "Validation round:  19%|█▉        | 142/732 [00:01<00:11, 53.40batch/s]\u001b[A\n",
      "Validation round:  21%|██▏       | 157/732 [00:01<00:08, 65.59batch/s]\u001b[A\n",
      "Validation round:  24%|██▎       | 173/732 [00:01<00:07, 79.51batch/s]\u001b[A\n",
      "Validation round:  26%|██▌       | 189/732 [00:01<00:05, 93.42batch/s]\u001b[A\n",
      "Validation round:  28%|██▊       | 204/732 [00:01<00:05, 105.16batch/s]\u001b[A\n",
      "Validation round:  30%|██▉       | 219/732 [00:01<00:04, 113.45batch/s]\u001b[A\n",
      "Validation round:  32%|███▏      | 237/732 [00:02<00:03, 126.97batch/s]\u001b[A\n",
      "Validation round:  35%|███▍      | 253/732 [00:02<00:03, 132.37batch/s]\u001b[A\n",
      "Validation round:  37%|███▋      | 270/732 [00:02<00:03, 140.41batch/s]\u001b[A\n",
      "Validation round:  39%|███▉      | 287/732 [00:02<00:03, 147.88batch/s]\u001b[A\n",
      "Validation round:  41%|████▏     | 303/732 [00:02<00:02, 145.11batch/s]\u001b[A\n",
      "Validation round:  44%|████▎     | 319/732 [00:02<00:02, 141.80batch/s]\u001b[A\n",
      "Validation round:  46%|████▌     | 337/732 [00:02<00:02, 150.87batch/s]\u001b[A\n",
      "Validation round:  49%|████▉     | 357/732 [00:02<00:02, 161.46batch/s]\u001b[A\n",
      "Validation round:  51%|█████     | 374/732 [00:02<00:02, 147.32batch/s]\u001b[A\n",
      "Validation round:  53%|█████▎    | 390/732 [00:03<00:02, 148.76batch/s]\u001b[A\n",
      "Validation round:  56%|█████▌    | 407/732 [00:03<00:02, 152.25batch/s]\u001b[A\n",
      "Validation round:  58%|█████▊    | 423/732 [00:03<00:02, 153.70batch/s]\u001b[A\n",
      "Validation round:  60%|██████    | 441/732 [00:03<00:01, 159.90batch/s]\u001b[A\n",
      "Validation round:  63%|██████▎   | 458/732 [00:03<00:01, 153.59batch/s]\u001b[A\n",
      "Validation round:  65%|██████▍   | 474/732 [00:03<00:01, 152.21batch/s]\u001b[A\n",
      "Validation round:  67%|██████▋   | 490/732 [00:03<00:01, 153.43batch/s]\u001b[A\n",
      "Validation round:  69%|██████▉   | 506/732 [00:03<00:01, 152.87batch/s]\u001b[A\n",
      "Validation round:  72%|███████▏  | 525/732 [00:03<00:01, 161.82batch/s]\u001b[A\n",
      "Validation round:  74%|███████▍  | 542/732 [00:04<00:01, 162.03batch/s]\u001b[A\n",
      "Validation round:  76%|███████▋  | 559/732 [00:04<00:01, 157.98batch/s]\u001b[A\n",
      "Validation round:  79%|███████▊  | 576/732 [00:04<00:00, 159.18batch/s]\u001b[A\n",
      "Validation round:  81%|████████  | 593/732 [00:04<00:00, 151.10batch/s]\u001b[A\n",
      "Validation round:  83%|████████▎ | 609/732 [00:04<00:00, 144.66batch/s]\u001b[A\n",
      "Validation round:  85%|████████▌ | 624/732 [00:04<00:00, 141.54batch/s]\u001b[A\n",
      "Validation round:  88%|████████▊ | 642/732 [00:04<00:00, 145.86batch/s]\u001b[A\n",
      "Validation round:  90%|████████▉ | 657/732 [00:04<00:00, 142.71batch/s]\u001b[A\n",
      "Validation round:  92%|█████████▏| 674/732 [00:04<00:00, 147.89batch/s]\u001b[A\n",
      "Validation round:  94%|█████████▍| 689/732 [00:05<00:00, 148.46batch/s]\u001b[A\n",
      "Validation round:  96%|█████████▌| 704/732 [00:05<00:00, 147.86batch/s]\u001b[A\n",
      "Validation round:  98%|█████████▊| 719/732 [00:05<00:00, 148.10batch/s]\u001b[A\n",
      "                                                                       \u001b[AINFO: Validation Dice Loss: 1.0\n",
      "Epoch 1/1:  58%|█████▊    | 3424/5865 [00:32<00:09, 262.28img/s, loss (batch)=0.819]Exception ignored in: <bound method NpzFile.__del__ of <numpy.lib.npyio.NpzFile object at 0x7f154c88dda0>>\n",
      "Traceback (most recent call last):\n",
      "  File \"/nfs02/users/vib9/anaconda3/envs/sln/lib/python3.6/site-packages/numpy/lib/npyio.py\", line 230, in __del__\n",
      "    self.close()\n",
      "  File \"/nfs02/users/vib9/anaconda3/envs/sln/lib/python3.6/site-packages/numpy/lib/npyio.py\", line 221, in close\n",
      "    if self.zip is not None:\n",
      "AttributeError: 'NpzFile' object has no attribute 'zip'\n",
      "Epoch 1/1:  58%|█████▊    | 3424/5865 [00:33<00:23, 103.29img/s, loss (batch)=0.819]\n"
     ]
    },
    {
     "ename": "KeyboardInterrupt",
     "evalue": "",
     "output_type": "error",
     "traceback": [
      "\u001b[0;31m---------------------------------------------------------------------------\u001b[0m",
      "\u001b[0;31mKeyboardInterrupt\u001b[0m                         Traceback (most recent call last)",
      "\u001b[0;32m<ipython-input-8-1a655a801715>\u001b[0m in \u001b[0;36m<module>\u001b[0;34m\u001b[0m\n\u001b[1;32m      5\u001b[0m                                                         \u001b[0mtarget_label_numbers\u001b[0m\u001b[0;34m,\u001b[0m\u001b[0;34m\u001b[0m\u001b[0m\n\u001b[1;32m      6\u001b[0m                                                         \u001b[0mtrain_path\u001b[0m\u001b[0;34m=\u001b[0m\u001b[0mfull_train_file\u001b[0m\u001b[0;34m,\u001b[0m\u001b[0;34m\u001b[0m\u001b[0m\n\u001b[0;32m----> 7\u001b[0;31m                                                         val_path=full_val_file)\n\u001b[0m",
      "\u001b[0;32m/nfs02/users/vib9/SL-Net/scripts/train.py\u001b[0m in \u001b[0;36mtrain_net\u001b[0;34m(net, epochs, batch_size, lr, target_label_numbers, train_path, val_path, segment)\u001b[0m\n\u001b[1;32m     79\u001b[0m \u001b[0;34m\u001b[0m\u001b[0m\n\u001b[1;32m     80\u001b[0m                 \u001b[0mloss\u001b[0m \u001b[0;34m=\u001b[0m \u001b[0mcriterion\u001b[0m\u001b[0;34m(\u001b[0m\u001b[0mpred\u001b[0m\u001b[0;34m,\u001b[0m \u001b[0mcomp\u001b[0m\u001b[0;34m)\u001b[0m\u001b[0;34m\u001b[0m\u001b[0m\n\u001b[0;32m---> 81\u001b[0;31m                 \u001b[0mrunning_train_soft\u001b[0m\u001b[0;34m.\u001b[0m\u001b[0mappend\u001b[0m\u001b[0;34m(\u001b[0m\u001b[0mloss\u001b[0m\u001b[0;34m.\u001b[0m\u001b[0mitem\u001b[0m\u001b[0;34m(\u001b[0m\u001b[0;34m)\u001b[0m\u001b[0;34m)\u001b[0m\u001b[0;34m\u001b[0m\u001b[0m\n\u001b[0m\u001b[1;32m     82\u001b[0m \u001b[0;34m\u001b[0m\u001b[0m\n\u001b[1;32m     83\u001b[0m                 \u001b[0mpbar\u001b[0m\u001b[0;34m.\u001b[0m\u001b[0mset_postfix\u001b[0m\u001b[0;34m(\u001b[0m\u001b[0;34m**\u001b[0m\u001b[0;34m{\u001b[0m\u001b[0;34m'loss (batch)'\u001b[0m\u001b[0;34m:\u001b[0m \u001b[0mloss\u001b[0m\u001b[0;34m.\u001b[0m\u001b[0mitem\u001b[0m\u001b[0;34m(\u001b[0m\u001b[0;34m)\u001b[0m\u001b[0;34m}\u001b[0m\u001b[0;34m)\u001b[0m\u001b[0;34m\u001b[0m\u001b[0m\n",
      "\u001b[0;31mKeyboardInterrupt\u001b[0m: "
     ]
    }
   ],
   "source": [
    "train_soft3, val_scores3, train_vars3, val_vars3 = train_net(model3,\n",
    "                                                        1,\n",
    "                                                        32,\n",
    "                                                        1e-4,\n",
    "                                                        target_label_numbers,\n",
    "                                                        train_path=full_train_file,\n",
    "                                                        val_path=full_val_file)"
   ]
  },
  {
   "cell_type": "code",
   "execution_count": null,
   "metadata": {},
   "outputs": [],
   "source": [
    "model3.state_dict()"
   ]
  }
 ],
 "metadata": {
  "kernelspec": {
   "display_name": "Python [conda env:sln] *",
   "language": "python",
   "name": "conda-env-sln-py"
  },
  "language_info": {
   "codemirror_mode": {
    "name": "ipython",
    "version": 3
   },
   "file_extension": ".py",
   "mimetype": "text/x-python",
   "name": "python",
   "nbconvert_exporter": "python",
   "pygments_lexer": "ipython3",
   "version": "3.6.6"
  }
 },
 "nbformat": 4,
 "nbformat_minor": 4
}
