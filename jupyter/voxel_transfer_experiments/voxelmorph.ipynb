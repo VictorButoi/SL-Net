{
 "cells": [
  {
   "cell_type": "code",
   "execution_count": 1,
   "metadata": {},
   "outputs": [
    {
     "ename": "SyntaxError",
     "evalue": "non-default argument follows default argument (voxelnets.py, line 51)",
     "output_type": "error",
     "traceback": [
      "Traceback \u001b[0;36m(most recent call last)\u001b[0m:\n",
      "  File \u001b[1;32m\"/nfs02/users/vib9/anaconda3/envs/sln/lib/python3.6/site-packages/IPython/core/interactiveshell.py\"\u001b[0m, line \u001b[1;32m3331\u001b[0m, in \u001b[1;35mrun_code\u001b[0m\n    exec(code_obj, self.user_global_ns, self.user_ns)\n",
      "  File \u001b[1;32m\"<ipython-input-1-a9141d573d59>\"\u001b[0m, line \u001b[1;32m6\u001b[0m, in \u001b[1;35m<module>\u001b[0m\n    from train import train\n",
      "  File \u001b[1;32m\"/home/vib9/src/SL-Net/superlayer/voxel/train.py\"\u001b[0m, line \u001b[1;32m26\u001b[0m, in \u001b[1;35m<module>\u001b[0m\n    from models import SpatialTransformer\n",
      "\u001b[0;36m  File \u001b[0;32m\"/home/vib9/src/SL-Net/superlayer/models/__init__.py\"\u001b[0;36m, line \u001b[0;32m8\u001b[0;36m, in \u001b[0;35m<module>\u001b[0;36m\u001b[0m\n\u001b[0;31m    from .voxelnets import cvpr2018_net\u001b[0m\n",
      "\u001b[0;36m  File \u001b[0;32m\"/home/vib9/src/SL-Net/superlayer/models/voxelnets.py\"\u001b[0;36m, line \u001b[0;32m51\u001b[0m\n\u001b[0;31m    def __init__(self, dim, enc_nf, dec_nf, full_size=True, superblock_size):\u001b[0m\n\u001b[0m                ^\u001b[0m\n\u001b[0;31mSyntaxError\u001b[0m\u001b[0;31m:\u001b[0m non-default argument follows default argument\n"
     ]
    }
   ],
   "source": [
    "import sys\n",
    "import os\n",
    "\n",
    "sys.path.append(\"/home/vib9/src/SL-Net/superlayer/voxel\")\n",
    "\n",
    "from train import train\n",
    "import argparse\n",
    "import logging\n",
    "import os\n",
    "import sys\n",
    "\n",
    "import numpy as np\n",
    "from tqdm import tqdm\n",
    "from matplotlib import pyplot as plt\n",
    "\n",
    "import torch\n",
    "import torch.nn as nn\n",
    "from torch import optim\n",
    "from torch.utils.tensorboard import SummaryWriter\n",
    "from torch.utils.data import DataLoader, random_split\n",
    "\n",
    "sys.path.append(\"../../\")\n",
    "sys.path.append(\"../../scripts/\")\n",
    "import superlayer.utils\n",
    "\n",
    "from scripts import eval_net, train_net, get_args\n",
    "\n",
    "from superlayer.models import AESuperNet, AEnet, cvpr2018_net\n",
    "from superlayer.utils import BrainD, dice_coeff, one_hot, plot_img_array, plot_side_by_side"
   ]
  },
  {
   "cell_type": "code",
   "execution_count": null,
   "metadata": {},
   "outputs": [],
   "source": [
    "dir_img = '/home/gid-dalcaav/projects/neuron/data/t1_mix/proc/resize256-crop_x32-slice100/train/vols/'\n",
    "dir_mask = '/home/gid-dalcaav/projects/neuron/data/t1_mix/proc/resize256-crop_x32-slice100/train/asegs/'\n",
    "\n",
    "dir_train = '/home/vib9/src/SL-Net/jupyter/partitions/train.txt'\n",
    "dir_val = '/home/vib9/src/SL-Net/jupyter/partitions/val.txt'\n",
    "\n",
    "dir_checkpoint_1 = 'checkpoints_1/'\n",
    "dir_checkpoint_2 = 'checkpoints_2/'"
   ]
  },
  {
   "cell_type": "code",
   "execution_count": null,
   "metadata": {},
   "outputs": [],
   "source": [
    "logging.basicConfig(level=logging.INFO, format='%(levelname)s: %(message)s')\n",
    "args = get_args()\n",
    "device = torch.device('cuda' if torch.cuda.is_available() else 'cpu')\n",
    "logging.info(f'Using device {device}')"
   ]
  },
  {
   "cell_type": "code",
   "execution_count": null,
   "metadata": {},
   "outputs": [],
   "source": [
    "target_label_numbers = [0,2,3,4,10,16,17,28,31,41,42,43,49,53,63]\n",
    "val_percent = 0.1\n",
    "batch_size = args.batchsize\n",
    "lr = args.lr\n",
    "img_scale = args.scale\n",
    "writer = SummaryWriter(comment=f'LR_{lr}_BS_{batch_size}_SCALE_{img_scale}')\n",
    "enc_nf = [64, 64, 64, 64]\n",
    "dec_nf = [64, 64, 64, 64]"
   ]
  },
  {
   "cell_type": "code",
   "execution_count": null,
   "metadata": {},
   "outputs": [],
   "source": [
    "dir_i = '/home/gid-dalcaav/projects/neuron/data/t1_mix/proc/resize256-crop_x32-slice100/train/vols/'\n",
    "atlas_file = '/home/vib9/src/voxelmorph/data/atlas_norm.npz'\n",
    "# Prepare the vm1 or vm2 model and send to device\n",
    "nf_enc = [64, 64, 64, 64]\n",
    "nf_dec = [64, 64, 64, 64, 64, 64, 64]\n",
    "atlas_vol = np.load(atlas_file)['vol'][np.newaxis, ..., np.newaxis][:,:,:,100,:]\n",
    "vol_size = atlas_vol.shape[1:-1]\n",
    "\n",
    "model = cvpr2018_net(vol_size, nf_enc, nf_dec)\n",
    "    \n",
    "train(model,\n",
    "      gpu='0',\n",
    "      data_dir=dir_i,\n",
    "      val_dir=dir_val,\n",
    "      atlas_file=atlas_file,\n",
    "      lr=1e-4,\n",
    "      n_iter=150000,\n",
    "      data_loss='mse',\n",
    "      model='vm2',\n",
    "      reg_param=0.01, \n",
    "      batch_size=1,\n",
    "      n_save_iter=500,\n",
    "      model_dir='/home/vib9/src/voxelmorph/pytorch/models/')"
   ]
  },
  {
   "cell_type": "code",
   "execution_count": null,
   "metadata": {},
   "outputs": [],
   "source": [
    "net1 = AESuperNet(input_ch=1, out_ch=15, use_bn=True, superblock_size=64, depth=4, ignore_last=True)\n",
    "\n",
    "logging.info(f'Network:\\n'\n",
    "             f'\\t{1} input channels\\n'\n",
    "             f'\\t{15} output channels (classes)\\n')\n",
    "\n",
    "net1.to(device=device)\n",
    "train_scores1, val_scores1, train_var_1, val_var_1 = train_net(net=net1,\n",
    "                                                                epochs=5,\n",
    "                                                                batch_size=args.batchsize,\n",
    "                                                                lr=args.lr,\n",
    "                                                                device=device,\n",
    "                                                                img_scale=args.scale,\n",
    "                                                                val_percent=args.val / 100,\n",
    "                                                                checkpoint=2,\n",
    "                                                                target_label_numbers=target_label_numbers,\n",
    "                                                                writer=writer,\n",
    "                                                                train_path=dir_train,\n",
    "                                                                val_path=dir_val,\n",
    "                                                                segment=False)"
   ]
  },
  {
   "cell_type": "code",
   "execution_count": null,
   "metadata": {},
   "outputs": [],
   "source": [
    "np.save(\"/home/vib9/src/SL-Net/superlayer/models/superblocks/TRUE_AE_64.npy\",net1.W.cpu().data)"
   ]
  },
  {
   "cell_type": "code",
   "execution_count": null,
   "metadata": {},
   "outputs": [],
   "source": [
    "net2 = AEnet(input_ch=1, out_ch=15, use_bn=True, enc_nf=enc_nf, dec_nf=enc_nf, ignore_last=True)\n",
    "\n",
    "logging.info(f'Network:\\n'\n",
    "             f'\\t{1} input channels\\n'\n",
    "             f'\\t{15} output channels (classes)\\n')\n",
    "\n",
    "net2.to(device=device)\n",
    "train_scores2, val_scores2, train_var_2, val_var_2 = train_net(net=net2,\n",
    "                                                                epochs=5,\n",
    "                                                                batch_size=args.batchsize,\n",
    "                                                                lr=args.lr,\n",
    "                                                                device=device,\n",
    "                                                                img_scale=args.scale,\n",
    "                                                                val_percent=args.val / 100,\n",
    "                                                                checkpoint=2,\n",
    "                                                                target_label_numbers=target_label_numbers,\n",
    "                                                                writer=writer,\n",
    "                                                                train_path=dir_train,\n",
    "                                                                val_path=dir_val,\n",
    "                                                                segment=False)"
   ]
  },
  {
   "cell_type": "code",
   "execution_count": null,
   "metadata": {},
   "outputs": [],
   "source": [
    "import math\n",
    "\n",
    "train_path = '/home/vib9/src/SL-Net/jupyter/partitions/train.txt'\n",
    "val_path = '/home/vib9/src/SL-Net/jupyter/partitions/val.txt'\n",
    "\n",
    "train = BrainD(dir_img, dir_mask, id_file=train_path, label_numbers=target_label_numbers)\n",
    "val = BrainD(dir_img, dir_mask, id_file=val_path, label_numbers=target_label_numbers)\n",
    "\n",
    "train_loader = DataLoader(train, batch_size=2, shuffle=True, num_workers=8, pin_memory=True)\n",
    "val_loader = DataLoader(val, batch_size=2, shuffle=False, num_workers=8, pin_memory=True, drop_last=True)\n",
    "\n",
    "n_val = len(val)\n",
    "n_train = len(train)\n",
    "dataset_size = n_val + n_train\n",
    "\n",
    "# Get the first batch\n",
    "train_batch = next(iter(train_loader))\n",
    "val_batch = next(iter(val_loader))\n",
    "\n",
    "inputs_train = train_batch['image']\n",
    "inputs_val = val_batch['image']\n"
   ]
  },
  {
   "cell_type": "code",
   "execution_count": null,
   "metadata": {},
   "outputs": [],
   "source": [
    "net1.eval() \n",
    "inputs = inputs_train.to(device=device, dtype=torch.float32)\n",
    "\n",
    "# Predict\n",
    "pred = net1(inputs)\n",
    "# The loss functions include the sigmoid function.\n",
    "pred = pred.data.cpu().numpy()\n",
    "\n",
    "input_images_rgb = [x.squeeze(0) for x in inputs.cpu().numpy()]\n",
    "pred_rgb = [x.squeeze(0) for x in pred]\n",
    "\n",
    "plot_side_by_side([input_images_rgb, pred_rgb])"
   ]
  },
  {
   "cell_type": "code",
   "execution_count": null,
   "metadata": {},
   "outputs": [],
   "source": [
    "net2.eval() \n",
    "inputs = inputs_train.to(device=device, dtype=torch.float32)\n",
    "\n",
    "# Predict\n",
    "pred = net2(inputs)\n",
    "# The loss functions include the sigmoid function.\n",
    "pred = pred.data.cpu().numpy()\n",
    "\n",
    "input_images_rgb = [x.squeeze(0) for x in inputs.cpu().numpy()]\n",
    "pred_rgb = [x.squeeze(0) for x in pred]\n",
    "\n",
    "plot_side_by_side([input_images_rgb, pred_rgb])"
   ]
  }
 ],
 "metadata": {
  "kernelspec": {
   "display_name": "Python [conda env:sln] *",
   "language": "python",
   "name": "conda-env-sln-py"
  },
  "language_info": {
   "codemirror_mode": {
    "name": "ipython",
    "version": 3
   },
   "file_extension": ".py",
   "mimetype": "text/x-python",
   "name": "python",
   "nbconvert_exporter": "python",
   "pygments_lexer": "ipython3",
   "version": "3.6.6"
  }
 },
 "nbformat": 4,
 "nbformat_minor": 4
}
