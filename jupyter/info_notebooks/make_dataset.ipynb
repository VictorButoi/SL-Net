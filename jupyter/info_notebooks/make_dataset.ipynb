{
 "cells": [
  {
   "cell_type": "code",
   "execution_count": 1,
   "metadata": {},
   "outputs": [],
   "source": [
    "import sys\n",
    "sys.path.append(\"../../\")\n",
    "from superlayer.utils import BrainD\n",
    "from torch.utils.data import random_split"
   ]
  },
  {
   "cell_type": "code",
   "execution_count": 2,
   "metadata": {},
   "outputs": [],
   "source": [
    "dir_img = '/home/gid-dalcaav/projects/neuron/data/t1_mix/proc/resize256-crop_x32-slice100/train/vols/'\n",
    "dir_mask = '/home/gid-dalcaav/projects/neuron/data/t1_mix/proc/resize256-crop_x32-slice100/train/asegs/'\n",
    "part_dir = '/home/vib9/src/SL-Net/jupyter/partitions/'\n",
    "target_label_numbers = [0,2,3,4,10,16,17,28,31,41,42,43,49,53,63]\n",
    "val_percent = 0.1\n",
    "dataset = BrainD(dir_img, dir_mask, label_numbers=target_label_numbers)\n",
    "n_val = int(len(dataset) * val_percent)\n",
    "n_train = len(dataset) - 2 * n_val\n",
    "n_test = n_val\n",
    "train, val, test = random_split(dataset, [n_train, n_val, n_test])\n",
    "\n",
    "with open(part_dir + 'train.txt', 'w') as traininghandle:\n",
    "    for id in train.indices:\n",
    "        traininghandle.write('%s\\n' % dataset.ids[id])\n",
    "        \n",
    "with open(part_dir + 'val.txt', 'w') as valhandle:\n",
    "    for id in val.indices:\n",
    "        valhandle.write('%s\\n' % dataset.ids[id])\n",
    "\n",
    "with open(part_dir + 'test.txt', 'w') as testhandle:\n",
    "    for id in test.indices:\n",
    "        testhandle.write('%s\\n' % dataset.ids[id])"
   ]
  }
 ],
 "metadata": {
  "kernelspec": {
   "display_name": "Python [conda env:sln] *",
   "language": "python",
   "name": "conda-env-sln-py"
  },
  "language_info": {
   "codemirror_mode": {
    "name": "ipython",
    "version": 3
   },
   "file_extension": ".py",
   "mimetype": "text/x-python",
   "name": "python",
   "nbconvert_exporter": "python",
   "pygments_lexer": "ipython3",
   "version": "3.6.6"
  }
 },
 "nbformat": 4,
 "nbformat_minor": 4
}
