{
 "cells": [
  {
   "cell_type": "code",
   "execution_count": 1,
   "metadata": {},
   "outputs": [],
   "source": [
    "import sys\n",
    "import os\n",
    "from collections import Counter \n",
    "\n",
    "sys.path.append(\"/home/vib9/src/voxelmorph/pytorch/\")\n",
    "import datagenerators\n",
    "\n",
    "sys.path.append(\"/home/vib9/src/SL-Net/superlayer/voxel\")\n",
    "\n",
    "import numpy as np\n",
    "\n",
    "import torch\n",
    "import torch.nn as nn\n",
    "from torch import optim\n",
    "from torch.utils.data import DataLoader, random_split\n",
    "\n",
    "sys.path.append(\"../../\")\n",
    "sys.path.append(\"../../scripts/\")\n",
    "import superlayer.utils\n",
    "\n",
    "dir_img = '/home/gid-dalcaav/projects/neuron/data/t1_mix/proc/resize256-crop_x32-slice100/train/vols/'\n",
    "dir_mask = '/home/gid-dalcaav/projects/neuron/data/t1_mix/proc/resize256-crop_x32-slice100/train/asegs/'\n",
    "\n",
    "dir_train = '/home/vib9/src/SL-Net/jupyter/partitions/train.txt'\n",
    "dir_val = '/home/vib9/src/SL-Net/jupyter/partitions/val.txt'\n",
    "dir_scarce = '/home/vib9/src/SL-Net/jupyter/partitions/scarce_train.txt'"
   ]
  },
  {
   "cell_type": "code",
   "execution_count": 2,
   "metadata": {},
   "outputs": [],
   "source": [
    "dir_i = '/home/gid-dalcaav/projects/neuron/data/t1_mix/proc/resize256-crop_x32-slice100/train/vols/'\n",
    "atlas_file = '/home/vib9/src/voxelmorph/data/atlas_norm.npz'\n",
    "train_file = '/home/vib9/src/SL-Net/jupyter/partitions/train.txt'\n",
    "train_file = open(train_file)\n",
    "train_strings = train_file.readlines()\n",
    "#train_vol_names = [(dir_i + x.strip() + \".npz\") for x in train_strings]\n",
    "train_vol_names = [(dir_i + x.strip() + \".npz\").replace(\"vols\", \"asegs\").replace(\"norm\",\"aseg\") for x in train_strings]\n",
    "\n",
    "def get_dist(atlas_file, data_dir, train_file, train_vol_names, num_samples):\n",
    "    \n",
    "    atlas = np.load(atlas_file)\n",
    "    atlas_seg = np.concatenate(atlas['seg'][:,:,100]).tolist()\n",
    "    atlas_set = set(atlas_seg)\n",
    "    atlas_dict = {i:atlas_seg.count(i) for i in atlas_set}\n",
    "    agr_dict = Counter({})\n",
    "    \n",
    "    for i in range(num_samples):\n",
    "        vol = np.concatenate(np.load(train_vol_names[i])['vol_data']).tolist()\n",
    "        \n",
    "        num_set = set(vol)\n",
    "        temp_dict = Counter({i:vol.count(i) for i in num_set})\n",
    "        agr_dict = agr_dict + temp_dict\n",
    "            \n",
    "    atlas_dict = sorted(atlas_dict.items(), key=lambda x: x[1], reverse=True)\n",
    "    agr_dict = sorted(dict(agr_dict).items(), key=lambda x: x[1], reverse=True)\n",
    "    \n",
    "    return atlas_dict, agr_dict"
   ]
  },
  {
   "cell_type": "code",
   "execution_count": 3,
   "metadata": {},
   "outputs": [],
   "source": [
    "atlas_dict, agr_dict = get_dist(atlas_file=atlas_file, \n",
    "                                 data_dir=dir_i, \n",
    "                                 train_file=train_file, \n",
    "                                 train_vol_names=train_vol_names, \n",
    "                                 num_samples=len(train_vol_names))"
   ]
  },
  {
   "cell_type": "code",
   "execution_count": 4,
   "metadata": {},
   "outputs": [
    {
     "name": "stdout",
     "output_type": "stream",
     "text": [
      "target num: 30720\n"
     ]
    }
   ],
   "source": [
    "print(\"target num: \" + str(160 * 192))"
   ]
  },
  {
   "cell_type": "code",
   "execution_count": 5,
   "metadata": {},
   "outputs": [],
   "source": [
    "def get_num(dic):\n",
    "    s = 0\n",
    "    for key in dic:\n",
    "        s += key[1]\n",
    "    return s"
   ]
  },
  {
   "cell_type": "code",
   "execution_count": 6,
   "metadata": {},
   "outputs": [
    {
     "data": {
      "text/plain": [
       "[(0.0, 17663),\n",
       " (2.0, 2987),\n",
       " (41.0, 2696),\n",
       " (42.0, 2456),\n",
       " (3.0, 2205),\n",
       " (16.0, 1344),\n",
       " (10.0, 283),\n",
       " (49.0, 245),\n",
       " (4.0, 142),\n",
       " (43.0, 132),\n",
       " (17.0, 107),\n",
       " (53.0, 106),\n",
       " (60.0, 102),\n",
       " (28.0, 101),\n",
       " (24.0, 80),\n",
       " (14.0, 18),\n",
       " (31.0, 15),\n",
       " (63.0, 15),\n",
       " (5.0, 7),\n",
       " (46.0, 7),\n",
       " (7.0, 4),\n",
       " (44.0, 3),\n",
       " (15.0, 2)]"
      ]
     },
     "execution_count": 6,
     "metadata": {},
     "output_type": "execute_result"
    }
   ],
   "source": [
    "atlas_dict"
   ]
  },
  {
   "cell_type": "code",
   "execution_count": 7,
   "metadata": {},
   "outputs": [
    {
     "data": {
      "text/plain": [
       "30720"
      ]
     },
     "execution_count": 7,
     "metadata": {},
     "output_type": "execute_result"
    }
   ],
   "source": [
    "get_num(atlas_dict)"
   ]
  },
  {
   "cell_type": "code",
   "execution_count": 8,
   "metadata": {},
   "outputs": [
    {
     "data": {
      "text/plain": [
       "[(0.0, 110240067),\n",
       " (41.0, 14325880),\n",
       " (2.0, 14272365),\n",
       " (42.0, 12036083),\n",
       " (3.0, 11670197),\n",
       " (16.0, 6340677),\n",
       " (10.0, 1920827),\n",
       " (49.0, 1779881),\n",
       " (4.0, 1112405),\n",
       " (43.0, 1086074),\n",
       " (28.0, 920685),\n",
       " (60.0, 869434),\n",
       " (17.0, 696217),\n",
       " (53.0, 683989),\n",
       " (24.0, 679003),\n",
       " (14.0, 234998),\n",
       " (63.0, 209125),\n",
       " (31.0, 188392),\n",
       " (77.0, 163255),\n",
       " (252.0, 137467),\n",
       " (11.0, 124622),\n",
       " (5.0, 119548),\n",
       " (50.0, 103251),\n",
       " (44.0, 86096),\n",
       " (251.0, 66952),\n",
       " (46.0, 33362),\n",
       " (12.0, 31474),\n",
       " (51.0, 18719),\n",
       " (7.0, 10767),\n",
       " (15.0, 4234),\n",
       " (8.0, 3601),\n",
       " (47.0, 2276),\n",
       " (80.0, 292),\n",
       " (52.0, 213),\n",
       " (13.0, 144),\n",
       " (253.0, 108),\n",
       " (254.0, 87),\n",
       " (30.0, 14),\n",
       " (54.0, 12),\n",
       " (62.0, 6),\n",
       " (255.0, 1)]"
      ]
     },
     "execution_count": 8,
     "metadata": {},
     "output_type": "execute_result"
    }
   ],
   "source": [
    "agr_dict"
   ]
  },
  {
   "cell_type": "code",
   "execution_count": 9,
   "metadata": {},
   "outputs": [
    {
     "data": {
      "text/plain": [
       "180172800"
      ]
     },
     "execution_count": 9,
     "metadata": {},
     "output_type": "execute_result"
    }
   ],
   "source": [
    "get_num(agr_dict)"
   ]
  }
 ],
 "metadata": {
  "kernelspec": {
   "display_name": "Python [conda env:sln] *",
   "language": "python",
   "name": "conda-env-sln-py"
  },
  "language_info": {
   "codemirror_mode": {
    "name": "ipython",
    "version": 3
   },
   "file_extension": ".py",
   "mimetype": "text/x-python",
   "name": "python",
   "nbconvert_exporter": "python",
   "pygments_lexer": "ipython3",
   "version": "3.6.6"
  }
 },
 "nbformat": 4,
 "nbformat_minor": 4
}
