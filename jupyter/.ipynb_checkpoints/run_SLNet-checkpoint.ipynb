{
 "cells": [
  {
   "cell_type": "code",
   "execution_count": 1,
   "metadata": {},
   "outputs": [],
   "source": [
    "import argparse\n",
    "import logging\n",
    "import os\n",
    "import sys\n",
    "\n",
    "import numpy as np\n",
    "from tqdm import tqdm\n",
    "from matplotlib import pyplot as plt\n",
    "\n",
    "import torch\n",
    "import torch.nn as nn\n",
    "from torch import optim\n",
    "from torch.utils.tensorboard import SummaryWriter\n",
    "from torch.utils.data import DataLoader, random_split\n",
    "\n",
    "sys.path.append(\"..\")\n",
    "sys.path.append(\"../scripts/\")\n",
    "import superlayer.utils\n",
    "\n",
    "from scripts import eval_net, train_net, get_args\n",
    "\n",
    "from superlayer.models import SLNet\n",
    "from superlayer.utils import BrainD, dice_coeff, one_hot, plot_img_array, plot_side_by_side"
   ]
  },
  {
   "cell_type": "code",
   "execution_count": 2,
   "metadata": {},
   "outputs": [],
   "source": [
    "dir_img = '/home/gid-dalcaav/projects/neuron/data/t1_mix/proc/resize256-crop_x32-slice100/train/vols/'\n",
    "dir_mask = '/home/gid-dalcaav/projects/neuron/data/t1_mix/proc/resize256-crop_x32-slice100/train/asegs/'\n",
    "dir_checkpoint_1 = 'checkpoints_1/'\n",
    "dir_checkpoint_2 = 'checkpoints_2/'"
   ]
  },
  {
   "cell_type": "code",
   "execution_count": 3,
   "metadata": {},
   "outputs": [
    {
     "name": "stderr",
     "output_type": "stream",
     "text": [
      "INFO: Using device cuda\n"
     ]
    }
   ],
   "source": [
    "logging.basicConfig(level=logging.INFO, format='%(levelname)s: %(message)s')\n",
    "args = get_args()\n",
    "device = torch.device('cuda' if torch.cuda.is_available() else 'cpu')\n",
    "logging.info(f'Using device {device}')"
   ]
  },
  {
   "cell_type": "code",
   "execution_count": 4,
   "metadata": {},
   "outputs": [
    {
     "name": "stderr",
     "output_type": "stream",
     "text": [
      "INFO: Creating dataset with 7329 examples\n"
     ]
    }
   ],
   "source": [
    "target_label_numbers = [0,2,3,4,10,16,17,28,31,41,42,43,49,53,63]\n",
    "val_percent = 0.1\n",
    "batch_size = args.batchsize\n",
    "lr = args.lr\n",
    "img_scale = args.scale\n",
    "\n",
    "dataset = BrainD(dir_img, dir_mask, label_numbers=target_label_numbers)\n",
    "n_val = int(len(dataset) * val_percent)\n",
    "n_train = len(dataset) - 2 * n_val\n",
    "n_test = n_val\n",
    "train, val, test = random_split(dataset, [n_train, n_val, n_test])\n",
    "\n",
    "train_loader = DataLoader(train, batch_size=8, shuffle=True, num_workers=8, pin_memory=True)\n",
    "val_loader = DataLoader(val, batch_size=8, shuffle=False, num_workers=8, pin_memory=True, drop_last=True)\n",
    "\n",
    "writer = SummaryWriter(comment=f'LR_{lr}_BS_{batch_size}_SCALE_{img_scale}')"
   ]
  },
  {
   "cell_type": "code",
   "execution_count": null,
   "metadata": {},
   "outputs": [],
   "source": [
    "net4 = SLNet(input_ch=1, out_ch=15, use_bn=True, superblock_size=64, depth=4)\n",
    "\n",
    "logging.info(f'Network:\\n'\n",
    "             f'\\t{1} input channels\\n'\n",
    "             f'\\t{15} output channels (classes)\\n')\n",
    "\n",
    "net4.to(device=device)\n",
    "train_scores4, val_scores4, train_var_4, val_var_4 = train_net(net=net4,\n",
    "                                                                epochs=5,\n",
    "                                                                batch_size=args.batchsize,\n",
    "                                                                lr=args.lr,\n",
    "                                                                device=device,\n",
    "                                                                img_scale=args.scale,\n",
    "                                                                val_percent=args.val / 100,\n",
    "                                                                checkpoint=1,\n",
    "                                                                target_label_numbers=target_label_numbers,\n",
    "                                                                dataset=dataset,\n",
    "                                                                train_loader=train_loader,\n",
    "                                                                val_loader=val_loader,\n",
    "                                                                writer=writer)"
   ]
  },
  {
   "cell_type": "code",
   "execution_count": null,
   "metadata": {},
   "outputs": [],
   "source": [
    "print(\"configuring plot four\")\n",
    "domain = len(train_scores4)\n",
    "x_values = [i+1 for i in range(domain)]\n",
    "plt.title(\"Simple TiedNet\")\n",
    "plt.xlabel(\"Mini-epochs\")\n",
    "plt.ylabel(\"Dice Loss\")\n",
    "plt.plot(x_values, train_scores4, color=\"blue\", label=\"train\")\n",
    "plt.plot(x_values, val_scores4, color=\"orange\", label=\"val\")\n",
    "plt.legend()\n",
    "plt.show()\n",
    "plt.close()"
   ]
  }
 ],
 "metadata": {
  "kernelspec": {
   "display_name": "Python [conda env:sln] *",
   "language": "python",
   "name": "conda-env-sln-py"
  },
  "language_info": {
   "codemirror_mode": {
    "name": "ipython",
    "version": 3
   },
   "file_extension": ".py",
   "mimetype": "text/x-python",
   "name": "python",
   "nbconvert_exporter": "python",
   "pygments_lexer": "ipython3",
   "version": "3.6.6"
  }
 },
 "nbformat": 4,
 "nbformat_minor": 4
}
