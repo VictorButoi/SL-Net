{
 "cells": [
  {
   "cell_type": "code",
   "execution_count": 1,
   "metadata": {},
   "outputs": [],
   "source": [
    "import sys\n",
    "sys.path.append(\"..\")\n",
    "from superlayer.models import SLNet, SUnet, SL_AEnet, AEnet\n",
    "from torchsummary import summary\n",
    "import torch\n",
    "\n",
    "device = torch.device('cuda' if torch.cuda.is_available() else 'cpu')"
   ]
  },
  {
   "cell_type": "code",
   "execution_count": 3,
   "metadata": {},
   "outputs": [
    {
     "name": "stdout",
     "output_type": "stream",
     "text": [
      "----------------------------------------------------------------\n",
      "        Layer (type)               Output Shape         Param #\n",
      "================================================================\n",
      "            Conv2d-1         [-1, 64, 160, 192]             640\n",
      "    InstanceNorm2d-2         [-1, 64, 160, 192]               0\n",
      "              ReLU-3         [-1, 64, 160, 192]               0\n",
      "      simple_block-4         [-1, 64, 160, 192]               0\n",
      "         MaxPool2d-5           [-1, 64, 80, 96]               0\n",
      "            Conv2d-6           [-1, 64, 80, 96]          36,928\n",
      "    InstanceNorm2d-7           [-1, 64, 80, 96]               0\n",
      "              ReLU-8           [-1, 64, 80, 96]               0\n",
      "      simple_block-9           [-1, 64, 80, 96]               0\n",
      "        MaxPool2d-10           [-1, 64, 40, 48]               0\n",
      "           Conv2d-11           [-1, 64, 40, 48]          36,928\n",
      "   InstanceNorm2d-12           [-1, 64, 40, 48]               0\n",
      "             ReLU-13           [-1, 64, 40, 48]               0\n",
      "     simple_block-14           [-1, 64, 40, 48]               0\n",
      "        MaxPool2d-15           [-1, 64, 20, 24]               0\n",
      "           Conv2d-16           [-1, 64, 20, 24]          36,928\n",
      "   InstanceNorm2d-17           [-1, 64, 20, 24]               0\n",
      "             ReLU-18           [-1, 64, 20, 24]               0\n",
      "     simple_block-19           [-1, 64, 20, 24]               0\n",
      "        MaxPool2d-20           [-1, 64, 10, 12]               0\n",
      "           Conv2d-21           [-1, 64, 10, 12]          36,928\n",
      "   InstanceNorm2d-22           [-1, 64, 10, 12]               0\n",
      "             ReLU-23           [-1, 64, 10, 12]               0\n",
      "     simple_block-24           [-1, 64, 10, 12]               0\n",
      "           Conv2d-25           [-1, 64, 20, 24]          73,792\n",
      "   InstanceNorm2d-26           [-1, 64, 20, 24]               0\n",
      "             ReLU-27           [-1, 64, 20, 24]               0\n",
      "     simple_block-28           [-1, 64, 20, 24]               0\n",
      "           Conv2d-29           [-1, 64, 40, 48]          73,792\n",
      "   InstanceNorm2d-30           [-1, 64, 40, 48]               0\n",
      "             ReLU-31           [-1, 64, 40, 48]               0\n",
      "     simple_block-32           [-1, 64, 40, 48]               0\n",
      "           Conv2d-33           [-1, 64, 80, 96]          73,792\n",
      "   InstanceNorm2d-34           [-1, 64, 80, 96]               0\n",
      "             ReLU-35           [-1, 64, 80, 96]               0\n",
      "     simple_block-36           [-1, 64, 80, 96]               0\n",
      "           Conv2d-37         [-1, 64, 160, 192]          73,792\n",
      "   InstanceNorm2d-38         [-1, 64, 160, 192]               0\n",
      "             ReLU-39         [-1, 64, 160, 192]               0\n",
      "     simple_block-40         [-1, 64, 160, 192]               0\n",
      "           Conv2d-41         [-1, 15, 160, 192]           8,655\n",
      "          Softmax-42         [-1, 15, 160, 192]               0\n",
      "================================================================\n",
      "Total params: 452,175\n",
      "Trainable params: 452,175\n",
      "Non-trainable params: 0\n",
      "----------------------------------------------------------------\n",
      "Input size (MB): 0.12\n",
      "Forward/backward pass size (MB): 171.62\n",
      "Params size (MB): 1.72\n",
      "Estimated Total Size (MB): 173.46\n",
      "----------------------------------------------------------------\n"
     ]
    }
   ],
   "source": [
    "enc_nf = [64, 64, 64, 64]\n",
    "dec_nf = [64, 64, 64, 64]\n",
    "model = SUnet(input_ch=1, out_ch=15, use_bn=True, enc_nf=enc_nf, dec_nf=dec_nf, ignore_last=False).to(device)\n",
    "summary(model, input_size=(1, 160, 192))"
   ]
  },
  {
   "cell_type": "code",
   "execution_count": 4,
   "metadata": {},
   "outputs": [
    {
     "name": "stdout",
     "output_type": "stream",
     "text": [
      "----------------------------------------------------------------\n",
      "        Layer (type)               Output Shape         Param #\n",
      "================================================================\n",
      "            Conv2d-1         [-1, 64, 160, 192]             640\n",
      "    InstanceNorm2d-2         [-1, 64, 160, 192]               0\n",
      "              ReLU-3         [-1, 64, 160, 192]               0\n",
      "      simple_block-4         [-1, 64, 160, 192]               0\n",
      "         MaxPool2d-5           [-1, 64, 80, 96]               0\n",
      "            Conv2d-6           [-1, 64, 80, 96]          36,928\n",
      "    InstanceNorm2d-7           [-1, 64, 80, 96]               0\n",
      "              ReLU-8           [-1, 64, 80, 96]               0\n",
      "      simple_block-9           [-1, 64, 80, 96]               0\n",
      "        MaxPool2d-10           [-1, 64, 40, 48]               0\n",
      "           Conv2d-11           [-1, 64, 40, 48]          36,928\n",
      "   InstanceNorm2d-12           [-1, 64, 40, 48]               0\n",
      "             ReLU-13           [-1, 64, 40, 48]               0\n",
      "     simple_block-14           [-1, 64, 40, 48]               0\n",
      "        MaxPool2d-15           [-1, 64, 20, 24]               0\n",
      "           Conv2d-16           [-1, 64, 20, 24]          36,928\n",
      "   InstanceNorm2d-17           [-1, 64, 20, 24]               0\n",
      "             ReLU-18           [-1, 64, 20, 24]               0\n",
      "     simple_block-19           [-1, 64, 20, 24]               0\n",
      "        MaxPool2d-20           [-1, 64, 10, 12]               0\n",
      "           Conv2d-21           [-1, 64, 10, 12]          36,928\n",
      "   InstanceNorm2d-22           [-1, 64, 10, 12]               0\n",
      "             ReLU-23           [-1, 64, 10, 12]               0\n",
      "     simple_block-24           [-1, 64, 10, 12]               0\n",
      "           Conv2d-25           [-1, 64, 20, 24]          73,792\n",
      "   InstanceNorm2d-26           [-1, 64, 20, 24]               0\n",
      "             ReLU-27           [-1, 64, 20, 24]               0\n",
      "     simple_block-28           [-1, 64, 20, 24]               0\n",
      "           Conv2d-29           [-1, 64, 40, 48]          73,792\n",
      "   InstanceNorm2d-30           [-1, 64, 40, 48]               0\n",
      "             ReLU-31           [-1, 64, 40, 48]               0\n",
      "     simple_block-32           [-1, 64, 40, 48]               0\n",
      "           Conv2d-33           [-1, 64, 80, 96]          73,792\n",
      "   InstanceNorm2d-34           [-1, 64, 80, 96]               0\n",
      "             ReLU-35           [-1, 64, 80, 96]               0\n",
      "     simple_block-36           [-1, 64, 80, 96]               0\n",
      "           Conv2d-37         [-1, 64, 160, 192]          73,792\n",
      "   InstanceNorm2d-38         [-1, 64, 160, 192]               0\n",
      "             ReLU-39         [-1, 64, 160, 192]               0\n",
      "     simple_block-40         [-1, 64, 160, 192]               0\n",
      "           Conv2d-41         [-1, 15, 160, 192]           8,655\n",
      "          Softmax-42         [-1, 15, 160, 192]               0\n",
      "================================================================\n",
      "Total params: 452,175\n",
      "Trainable params: 452,175\n",
      "Non-trainable params: 0\n",
      "----------------------------------------------------------------\n",
      "Input size (MB): 0.12\n",
      "Forward/backward pass size (MB): 171.62\n",
      "Params size (MB): 1.72\n",
      "Estimated Total Size (MB): 173.46\n",
      "----------------------------------------------------------------\n"
     ]
    }
   ],
   "source": [
    "model = SLNet(input_ch=1, out_ch=15, use_bn=True, superblock_size=64, depth=4).to(device)\n",
    "summary(model, input_size=(1, 160, 192))"
   ]
  },
  {
   "cell_type": "code",
   "execution_count": null,
   "metadata": {},
   "outputs": [],
   "source": []
  }
 ],
 "metadata": {
  "kernelspec": {
   "display_name": "Python [conda env:sln] *",
   "language": "python",
   "name": "conda-env-sln-py"
  },
  "language_info": {
   "codemirror_mode": {
    "name": "ipython",
    "version": 3
   },
   "file_extension": ".py",
   "mimetype": "text/x-python",
   "name": "python",
   "nbconvert_exporter": "python",
   "pygments_lexer": "ipython3",
   "version": "3.6.6"
  }
 },
 "nbformat": 4,
 "nbformat_minor": 4
}
