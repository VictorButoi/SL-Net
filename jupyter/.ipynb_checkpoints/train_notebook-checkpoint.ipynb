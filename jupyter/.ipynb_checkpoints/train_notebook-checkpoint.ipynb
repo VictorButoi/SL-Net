{
 "cells": [
  {
   "cell_type": "code",
   "execution_count": 6,
   "metadata": {},
   "outputs": [
    {
     "ename": "ModuleNotFoundError",
     "evalue": "No module named 'unet'",
     "output_type": "error",
     "traceback": [
      "\u001b[0;31m---------------------------------------------------------------------------\u001b[0m",
      "\u001b[0;31mModuleNotFoundError\u001b[0m                       Traceback (most recent call last)",
      "\u001b[0;32m<ipython-input-6-6a0a262fd5a8>\u001b[0m in \u001b[0;36m<module>\u001b[0;34m\u001b[0m\n\u001b[1;32m     15\u001b[0m \u001b[0;32mfrom\u001b[0m \u001b[0meval\u001b[0m \u001b[0;32mimport\u001b[0m \u001b[0meval_net\u001b[0m\u001b[0;34m\u001b[0m\u001b[0;34m\u001b[0m\u001b[0m\n\u001b[1;32m     16\u001b[0m \u001b[0msys\u001b[0m\u001b[0;34m.\u001b[0m\u001b[0mpath\u001b[0m\u001b[0;34m.\u001b[0m\u001b[0mappend\u001b[0m\u001b[0;34m(\u001b[0m\u001b[0;34m\"../superlayer/models/\"\u001b[0m\u001b[0;34m)\u001b[0m\u001b[0;34m\u001b[0m\u001b[0;34m\u001b[0m\u001b[0m\n\u001b[0;32m---> 17\u001b[0;31m \u001b[0;32mfrom\u001b[0m \u001b[0munet\u001b[0m \u001b[0;32mimport\u001b[0m \u001b[0mUNet\u001b[0m\u001b[0;34m\u001b[0m\u001b[0;34m\u001b[0m\u001b[0m\n\u001b[0m\u001b[1;32m     18\u001b[0m \u001b[0;32mfrom\u001b[0m \u001b[0munet\u001b[0m \u001b[0;32mimport\u001b[0m \u001b[0mTiedUNet\u001b[0m\u001b[0;34m\u001b[0m\u001b[0;34m\u001b[0m\u001b[0m\n\u001b[1;32m     19\u001b[0m \u001b[0;34m\u001b[0m\u001b[0m\n",
      "\u001b[0;31mModuleNotFoundError\u001b[0m: No module named 'unet'"
     ]
    }
   ],
   "source": [
    "import argparse\n",
    "import logging\n",
    "import os\n",
    "import sys\n",
    "\n",
    "import numpy as np\n",
    "import torch\n",
    "import torch.nn as nn\n",
    "from torch import optim\n",
    "from tqdm import tqdm\n",
    "\n",
    "sys.path.append(\"../superlayer/utils/\")\n",
    "import utils as help\n",
    "sys.path.append(\"../scripts/\")\n",
    "from eval import eval_net\n",
    "sys.path.append(\"../superlayer/\")\n",
    "from models import UNet\n",
    "from models import TiedUNet\n",
    "\n",
    "from torch.utils.tensorboard import SummaryWriter\n",
    "from utils.dataset import BrainD\n",
    "from torch.utils.data import DataLoader, random_split\n",
    "\n",
    "from dice_loss import dice_coeff\n",
    "from dice_loss import one_hot\n",
    "\n",
    "from train import train_net \n",
    "from train import get_args\n",
    "\n",
    "from matplotlib import pyplot as plt"
   ]
  },
  {
   "cell_type": "code",
   "execution_count": null,
   "metadata": {},
   "outputs": [],
   "source": [
    "dir_img = '/home/gid-dalcaav/projects/neuron/data/t1_mix/proc/resize256-crop_x32-slice100/train/vols/'\n",
    "dir_mask = '/home/gid-dalcaav/projects/neuron/data/t1_mix/proc/resize256-crop_x32-slice100/train/asegs/'\n",
    "dir_checkpoint_1 = 'checkpoints_1/'\n",
    "dir_checkpoint_2 = 'checkpoints_2/'\n",
    "\n",
    "np.set_printoptions(threshold=sys.maxsize)\n",
    "torch.set_printoptions(threshold=10_000)"
   ]
  },
  {
   "cell_type": "code",
   "execution_count": null,
   "metadata": {},
   "outputs": [],
   "source": [
    "logging.basicConfig(level=logging.INFO, format='%(levelname)s: %(message)s')\n",
    "args = get_args()\n",
    "device = torch.device('cuda' if torch.cuda.is_available() else 'cpu')\n",
    "logging.info(f'Using device {device}')"
   ]
  },
  {
   "cell_type": "code",
   "execution_count": null,
   "metadata": {},
   "outputs": [],
   "source": [
    "target_label_numbers = [0,2,3,4,10,16,17,28,31,41,42,43,49,53,63]\n",
    "val_percent = 0.1\n",
    "batch_size = args.batchsize\n",
    "lr = args.lr\n",
    "img_scale = args.scale\n",
    "\n",
    "dataset = BrainD(dir_img, dir_mask, label_numbers=target_label_numbers)\n",
    "n_val = int(len(dataset) * val_percent)\n",
    "n_train = len(dataset) - 2 * n_val\n",
    "n_test = n_val\n",
    "train, val, test = random_split(dataset, [n_train, n_val, n_test])\n",
    "\n",
    "train_loader = DataLoader(train, batch_size=8, shuffle=True, num_workers=8, pin_memory=True)\n",
    "val_loader = DataLoader(val, batch_size=8, shuffle=False, num_workers=8, pin_memory=True, drop_last=True)\n",
    "\n",
    "writer = SummaryWriter(comment=f'LR_{lr}_BS_{batch_size}_SCALE_{img_scale}')"
   ]
  },
  {
   "cell_type": "code",
   "execution_count": null,
   "metadata": {},
   "outputs": [],
   "source": [
    "one_example = next(iter(train_loader))\n",
    "\n",
    "image = one_example['image'][0]\n",
    "mask = one_example['mask'][0]\n",
    "\n",
    "print(image.shape)\n",
    "print(mask.shape)\n",
    "\n",
    "sq_img = image.squeeze(0).squeeze(0)\n",
    "sq_msk = mask.squeeze(0).squeeze(0)"
   ]
  },
  {
   "cell_type": "code",
   "execution_count": null,
   "metadata": {},
   "outputs": [],
   "source": [
    "print(sq_img.shape)\n",
    "plt.imshow(sq_img)"
   ]
  },
  {
   "cell_type": "code",
   "execution_count": null,
   "metadata": {},
   "outputs": [],
   "source": [
    "print(sq_msk.shape)\n",
    "plt.imshow(sq_msk)"
   ]
  },
  {
   "cell_type": "code",
   "execution_count": null,
   "metadata": {},
   "outputs": [],
   "source": [
    "net2 = TiedUNet(n_channels=1, n_classes=15, bilinear=True)\n",
    "\n",
    "logging.info(f'Network:\\n'\n",
    "             f'\\t{net2.n_channels} input channels\\n'\n",
    "             f'\\t{net2.n_classes} output channels (classes)\\n'\n",
    "             f'\\t{\"Bilinear\" if net2.bilinear else \"Transposed conv\"} upscaling')\n",
    "\n",
    "net2.to(device=device)\n",
    "train_scores2, val_scores2, train_var_2, val_var_2 = train_net(net=net2,\n",
    "                                                                epochs=args.epochs,\n",
    "                                                                batch_size=args.batchsize,\n",
    "                                                                lr=args.lr,\n",
    "                                                                device=device,\n",
    "                                                                img_scale=args.scale,\n",
    "                                                                val_percent=args.val / 100,\n",
    "                                                                checkpoint=2,\n",
    "                                                                target_label_numbers=target_label_numbers,\n",
    "                                                                dataset=dataset,\n",
    "                                                                train_loader=train_loader,\n",
    "                                                                val_loader=val_loader,\n",
    "                                                                writer=writer)"
   ]
  },
  {
   "cell_type": "code",
   "execution_count": null,
   "metadata": {},
   "outputs": [],
   "source": [
    "net1 = UNet(n_channels=1, n_classes=15, bilinear=True)\n",
    "\n",
    "logging.info(f'Network:\\n'\n",
    "             f'\\t{net1.n_channels} input channels\\n'\n",
    "             f'\\t{net1.n_classes} output channels (classes)\\n'\n",
    "             f'\\t{\"Bilinear\" if net1.bilinear else \"Transposed conv\"} upscaling')\n",
    "\n",
    "net1.to(device=device)\n",
    "train_scores1, val_scores1, train_var_1, val_var_1 = train_net(net=net1,\n",
    "                                                                epochs=args.epochs,\n",
    "                                                                batch_size=args.batchsize,\n",
    "                                                                lr=args.lr,\n",
    "                                                                device=device,\n",
    "                                                                img_scale=args.scale,\n",
    "                                                                val_percent=args.val / 100,\n",
    "                                                                checkpoint=1,\n",
    "                                                                target_label_numbers=target_label_numbers,\n",
    "                                                                dataset=dataset,\n",
    "                                                                train_loader=train_loader,\n",
    "                                                                val_loader=val_loader,\n",
    "                                                                writer=writer)"
   ]
  },
  {
   "cell_type": "code",
   "execution_count": null,
   "metadata": {},
   "outputs": [],
   "source": [
    "print(\"configuring plot one\")\n",
    "domain = len(train_scores1)\n",
    "x_values = [i+1 for i in range(domain)]\n",
    "plt.title(\"UNet\")\n",
    "plt.xlabel(\"Mini-epochs\")\n",
    "plt.ylabel(\"Dice Loss\")\n",
    "plt.plot(x_values, train_scores1, color=\"blue\", label=\"train\")\n",
    "plt.plot(x_values, val_scores1, color=\"orange\", label=\"val\")\n",
    "plt.legend()\n",
    "plt.show()\n",
    "plt.close()"
   ]
  },
  {
   "cell_type": "code",
   "execution_count": null,
   "metadata": {},
   "outputs": [],
   "source": [
    "print(\"configuring plot two\")\n",
    "domain = len(train_scores2)\n",
    "x_values = [i+1 for i in range(domain)]\n",
    "plt.title(\"SL-Net\")\n",
    "plt.xlabel(\"Mini-epochs\")\n",
    "plt.ylabel(\"Dice Loss\")\n",
    "plt.plot(x_values, train_scores2, color=\"blue\", label=\"train\")\n",
    "plt.plot(x_values, val_scores2, color=\"orange\", label=\"val\")\n",
    "plt.legend()\n",
    "plt.show()\n",
    "plt.close()"
   ]
  },
  {
   "cell_type": "code",
   "execution_count": null,
   "metadata": {},
   "outputs": [],
   "source": [
    "import math\n",
    "\n",
    "# Create another simulation dataset for test\n",
    "train_loader = DataLoader(train, batch_size=2, shuffle=False, num_workers=8, pin_memory=True, drop_last=True)\n",
    "val_loader = DataLoader(val, batch_size=2, shuffle=False, num_workers=8, pin_memory=True, drop_last=True)\n",
    "test_loader = DataLoader(test, batch_size=2, shuffle=False, num_workers=8, pin_memory=True, drop_last=True)\n",
    "\n",
    "# Get the first batch\n",
    "train_batch = next(iter(train_loader))\n",
    "val_batch = next(iter(val_loader))\n",
    "test_batch = next(iter(test_loader))\n",
    "\n",
    "inputs_train = train_batch['image']\n",
    "labels_train = train_batch['mask']\n",
    "\n",
    "inputs_val = val_batch['image']\n",
    "labels_val = val_batch['mask']\n",
    "\n",
    "inputs_test = test_batch['image']\n",
    "labels_test = test_batch['mask']"
   ]
  },
  {
   "cell_type": "code",
   "execution_count": null,
   "metadata": {},
   "outputs": [],
   "source": [
    "net1.eval() \n",
    "inputs = inputs_train.to(device=device, dtype=torch.float32)\n",
    "labels = labels_train.to(device=device, dtype=torch.float32)\n",
    "        \n",
    "\n",
    "# Predict\n",
    "pred = net1(inputs)\n",
    "# The loss functions include the sigmoid function.\n",
    "pred = torch.argmax(pred, axis=1).unsqueeze(1)\n",
    "pred = pred.data.cpu().numpy()\n",
    "\n",
    "input_images_rgb = [x.squeeze(0) for x in inputs.cpu().numpy()]\n",
    "target_masks_rgb = [x.squeeze(0) for x in labels.cpu().numpy()]\n",
    "pred_rgb = [x.squeeze(0) for x in pred]\n",
    "\n",
    "help.plot_side_by_side([input_images_rgb, target_masks_rgb, pred_rgb])"
   ]
  },
  {
   "cell_type": "code",
   "execution_count": null,
   "metadata": {},
   "outputs": [],
   "source": [
    "net1.eval() \n",
    "inputs = inputs_val.to(device=device, dtype=torch.float32)\n",
    "labels = inputs_val.to(device=device, dtype=torch.float32)\n",
    "        \n",
    "\n",
    "# Predict\n",
    "pred = net1(inputs)\n",
    "# The loss functions include the sigmoid function.\n",
    "pred = torch.argmax(pred, axis=1).unsqueeze(1)\n",
    "pred = pred.data.cpu().numpy()\n",
    "\n",
    "input_images_rgb = [x.squeeze(0) for x in inputs.cpu().numpy()]\n",
    "target_masks_rgb = [x.squeeze(0) for x in labels.cpu().numpy()]\n",
    "pred_rgb = [x.squeeze(0) for x in pred]\n",
    "\n",
    "help.plot_side_by_side([input_images_rgb, target_masks_rgb, pred_rgb])"
   ]
  },
  {
   "cell_type": "code",
   "execution_count": null,
   "metadata": {},
   "outputs": [],
   "source": [
    "net1.eval() \n",
    "inputs = inputs_test.to(device=device, dtype=torch.float32)\n",
    "labels = labels_test.to(device=device, dtype=torch.float32)\n",
    "        \n",
    "\n",
    "# Predict\n",
    "pred = net1(inputs)\n",
    "# The loss functions include the sigmoid function.\n",
    "pred = torch.argmax(pred, axis=1).unsqueeze(1)\n",
    "pred = pred.data.cpu().numpy()\n",
    "\n",
    "input_images_rgb = [x.squeeze(0) for x in inputs.cpu().numpy()]\n",
    "target_masks_rgb = [x.squeeze(0) for x in labels.cpu().numpy()]\n",
    "pred_rgb = [x.squeeze(0) for x in pred]\n",
    "\n",
    "help.plot_side_by_side([input_images_rgb, target_masks_rgb, pred_rgb])"
   ]
  },
  {
   "cell_type": "code",
   "execution_count": null,
   "metadata": {},
   "outputs": [],
   "source": [
    "net2.eval()\n",
    "inputs = inputs_train.to(device=device, dtype=torch.float32)\n",
    "labels = labels_train.to(device=device, dtype=torch.float32)\n",
    "        \n",
    "\n",
    "# Predict\n",
    "pred = net2(inputs)\n",
    "# The loss functions include the sigmoid function.\n",
    "pred = torch.argmax(pred, axis=1).unsqueeze(1)\n",
    "pred = pred.data.cpu().numpy()\n",
    "\n",
    "input_images_rgb = [x.squeeze(0) for x in inputs.cpu().numpy()]\n",
    "target_masks_rgb = [x.squeeze(0) for x in labels.cpu().numpy()]\n",
    "pred_rgb = [x.squeeze(0) for x in pred]\n",
    "\n",
    "help.plot_side_by_side([input_images_rgb, target_masks_rgb, pred_rgb])"
   ]
  },
  {
   "cell_type": "code",
   "execution_count": null,
   "metadata": {},
   "outputs": [],
   "source": [
    "net2.eval()\n",
    "inputs = inputs_val.to(device=device, dtype=torch.float32)\n",
    "labels = labels_val.to(device=device, dtype=torch.float32)\n",
    "        \n",
    "\n",
    "# Predict\n",
    "pred = net2(inputs)\n",
    "# The loss functions include the sigmoid function.\n",
    "pred = torch.argmax(pred, axis=1).unsqueeze(1)\n",
    "pred = pred.data.cpu().numpy()\n",
    "\n",
    "input_images_rgb = [x.squeeze(0) for x in inputs.cpu().numpy()]\n",
    "target_masks_rgb = [x.squeeze(0) for x in labels.cpu().numpy()]\n",
    "pred_rgb = [x.squeeze(0) for x in pred]\n",
    "\n",
    "help.plot_side_by_side([input_images_rgb, target_masks_rgb, pred_rgb])"
   ]
  },
  {
   "cell_type": "code",
   "execution_count": null,
   "metadata": {},
   "outputs": [],
   "source": [
    "net2.eval()\n",
    "inputs = inputs_test.to(device=device, dtype=torch.float32)\n",
    "labels = labels_test.to(device=device, dtype=torch.float32)\n",
    "        \n",
    "\n",
    "# Predict\n",
    "pred = net2(inputs)\n",
    "# The loss functions include the sigmoid function.\n",
    "pred = torch.argmax(pred, axis=1).unsqueeze(1)\n",
    "pred = pred.data.cpu().numpy()\n",
    "\n",
    "input_images_rgb = [x.squeeze(0) for x in inputs.cpu().numpy()]\n",
    "target_masks_rgb = [x.squeeze(0) for x in labels.cpu().numpy()]\n",
    "pred_rgb = [x.squeeze(0) for x in pred]\n",
    "\n",
    "help.plot_side_by_side([input_images_rgb, target_masks_rgb, pred_rgb])"
   ]
  }
 ],
 "metadata": {
  "kernelspec": {
   "display_name": "Python 3",
   "language": "python",
   "name": "python3"
  },
  "language_info": {
   "codemirror_mode": {
    "name": "ipython",
    "version": 3
   },
   "file_extension": ".py",
   "mimetype": "text/x-python",
   "name": "python",
   "nbconvert_exporter": "python",
   "pygments_lexer": "ipython3",
   "version": "3.7.6"
  }
 },
 "nbformat": 4,
 "nbformat_minor": 4
}
