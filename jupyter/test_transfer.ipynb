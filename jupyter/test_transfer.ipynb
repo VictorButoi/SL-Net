{
 "cells": [
  {
   "cell_type": "code",
   "execution_count": 1,
   "metadata": {},
   "outputs": [],
   "source": [
    "import argparse\n",
    "import logging\n",
    "import os\n",
    "import sys\n",
    "\n",
    "import numpy as np\n",
    "from tqdm import tqdm\n",
    "from matplotlib import pyplot as plt\n",
    "\n",
    "import torch\n",
    "import torch.nn as nn\n",
    "from torch import optim\n",
    "from torch.utils.tensorboard import SummaryWriter\n",
    "from torch.utils.data import DataLoader, random_split\n",
    "\n",
    "sys.path.append(\"..\")\n",
    "sys.path.append(\"../scripts/\")\n",
    "import superlayer.utils\n",
    "\n",
    "from scripts import eval_net, train_net, get_args\n",
    "\n",
    "from superlayer.models import SuperNet, AESuperNet\n",
    "from superlayer.utils import BrainD, dice_coeff, one_hot, plot_img_array, plot_side_by_side"
   ]
  },
  {
   "cell_type": "code",
   "execution_count": 2,
   "metadata": {},
   "outputs": [],
   "source": [
    "net1 = np.load(\"/home/vib9/src/SL-Net/superlayer/models/superblocks/SLN_64.npy\")\n",
    "net2 = np.load(\"/home/vib9/src/SL-Net/superlayer/models/superblocks/SLN_128.npy\")\n",
    "net3 = np.load(\"/home/vib9/src/SL-Net/superlayer/models/superblocks/SLN_200.npy\")\n",
    "net4 = np.load(\"/home/vib9/src/SL-Net/superlayer/models/superblocks/SLN_256.npy\")\n",
    "net5 = np.load(\"/home/vib9/src/SL-Net/superlayer/models/superblocks/AE_64.npy\")\n",
    "net6 = np.load(\"/home/vib9/src/SL-Net/superlayer/models/superblocks/AE_128.npy\")\n",
    "net7 = np.load(\"/home/vib9/src/SL-Net/superlayer/models/superblocks/AE_200.npy\")\n",
    "net8 = np.load(\"/home/vib9/src/SL-Net/superlayer/models/superblocks/AE_256.npy\")"
   ]
  },
  {
   "cell_type": "code",
   "execution_count": null,
   "metadata": {},
   "outputs": [],
   "source": []
  }
 ],
 "metadata": {
  "kernelspec": {
   "display_name": "Python [conda env:sln] *",
   "language": "python",
   "name": "conda-env-sln-py"
  },
  "language_info": {
   "codemirror_mode": {
    "name": "ipython",
    "version": 3
   },
   "file_extension": ".py",
   "mimetype": "text/x-python",
   "name": "python",
   "nbconvert_exporter": "python",
   "pygments_lexer": "ipython3",
   "version": "3.6.6"
  }
 },
 "nbformat": 4,
 "nbformat_minor": 4
}
