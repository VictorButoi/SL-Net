{
 "cells": [
  {
   "cell_type": "code",
   "execution_count": 1,
   "metadata": {},
   "outputs": [],
   "source": [
    "import argparse\n",
    "import logging\n",
    "import os\n",
    "import sys\n",
    "\n",
    "import numpy as np\n",
    "from tqdm import tqdm\n",
    "from matplotlib import pyplot as plt\n",
    "\n",
    "import torch\n",
    "import torch.nn as nn\n",
    "from torch import optim\n",
    "from torch.utils.tensorboard import SummaryWriter\n",
    "from torch.utils.data import DataLoader, random_split\n",
    "\n",
    "sys.path.append(\"..\")\n",
    "sys.path.append(\"../scripts/\")\n",
    "import superlayer.utils\n",
    "\n",
    "from scripts import eval_net, train_net, get_args\n",
    "\n",
    "from superlayer.models import SLNet, SUnet, SL_AEnet, AEnet\n",
    "from superlayer.utils import BrainD, dice_coeff, one_hot, plot_img_array, plot_side_by_side"
   ]
  },
  {
   "cell_type": "code",
   "execution_count": 2,
   "metadata": {},
   "outputs": [],
   "source": [
    "dir_img = '/home/gid-dalcaav/projects/neuron/data/t1_mix/proc/resize256-crop_x32-slice100/train/vols/'\n",
    "dir_mask = '/home/gid-dalcaav/projects/neuron/data/t1_mix/proc/resize256-crop_x32-slice100/train/asegs/'\n",
    "\n",
    "dir_train = '/home/vib9/src/SL-Net/jupyter/partitions/train.txt'\n",
    "dir_val = '/home/vib9/src/SL-Net/jupyter/partitions/val.txt'\n",
    "\n",
    "dir_checkpoint_1 = 'checkpoints_1/'\n",
    "dir_checkpoint_2 = 'checkpoints_2/'"
   ]
  },
  {
   "cell_type": "code",
   "execution_count": 3,
   "metadata": {},
   "outputs": [
    {
     "name": "stderr",
     "output_type": "stream",
     "text": [
      "INFO: Using device cuda\n"
     ]
    }
   ],
   "source": [
    "logging.basicConfig(level=logging.INFO, format='%(levelname)s: %(message)s')\n",
    "args = get_args()\n",
    "device = torch.device('cuda' if torch.cuda.is_available() else 'cpu')\n",
    "logging.info(f'Using device {device}')"
   ]
  },
  {
   "cell_type": "code",
   "execution_count": 4,
   "metadata": {},
   "outputs": [],
   "source": [
    "target_label_numbers = [0,2,3,4,10,16,17,28,31,41,42,43,49,53,63]\n",
    "val_percent = 0.1\n",
    "batch_size = args.batchsize\n",
    "lr = args.lr\n",
    "img_scale = args.scale\n",
    "writer = SummaryWriter(comment=f'LR_{lr}_BS_{batch_size}_SCALE_{img_scale}')\n",
    "enc_nf = [64, 64, 64, 64]\n",
    "dec_nf = [64, 64, 64, 64]"
   ]
  },
  {
   "cell_type": "code",
   "execution_count": null,
   "metadata": {},
   "outputs": [
    {
     "name": "stderr",
     "output_type": "stream",
     "text": [
      "INFO: Network:\n",
      "\t1 input channels\n",
      "\t15 output channels (classes)\n",
      "\n"
     ]
    }
   ],
   "source": [
    "net1 = AEnet(input_ch=1, out_ch=15, use_bn=True, enc_nf=enc_nf, dec_nf=dec_nf)\n",
    "\n",
    "logging.info(f'Network:\\n'\n",
    "             f'\\t{1} input channels\\n'\n",
    "             f'\\t{15} output channels (classes)\\n')\n",
    "\n",
    "net1.to(device=device)\n",
    "train_scores1, val_scores1, train_var_1, val_var_1 = train_net(net=net1,\n",
    "                                                                epochs=5,\n",
    "                                                                batch_size=args.batchsize,\n",
    "                                                                lr=args.lr,\n",
    "                                                                device=device,\n",
    "                                                                img_scale=args.scale,\n",
    "                                                                val_percent=args.val / 100,\n",
    "                                                                checkpoint=2,\n",
    "                                                                target_label_numbers=target_label_numbers,\n",
    "                                                                writer=writer,\n",
    "                                                                train_path=dir_train,\n",
    "                                                                val_path=dir_val)"
   ]
  },
  {
   "cell_type": "code",
   "execution_count": null,
   "metadata": {},
   "outputs": [],
   "source": [
    "net2 = SL_AEnet(input_ch=1, out_ch=15, use_bn=True, superblock_size=64, depth=4)\n",
    "\n",
    "logging.info(f'Network:\\n'\n",
    "             f'\\t{1} input channels\\n'\n",
    "             f'\\t{15} output channels (classes)\\n')\n",
    "\n",
    "net2.to(device=device)\n",
    "train_scores2, val_scores2, train_var_2, val_var_2 = train_net(net=net2,\n",
    "                                                                epochs=5,\n",
    "                                                                batch_size=args.batchsize,\n",
    "                                                                lr=args.lr,\n",
    "                                                                device=device,\n",
    "                                                                img_scale=args.scale,\n",
    "                                                                val_percent=args.val / 100,\n",
    "                                                                checkpoint=2,\n",
    "                                                                target_label_numbers=target_label_numbers,\n",
    "                                                                writer=writer,\n",
    "                                                                train_path=dir_train,\n",
    "                                                                val_path=dir_val)"
   ]
  },
  {
   "cell_type": "code",
   "execution_count": null,
   "metadata": {},
   "outputs": [],
   "source": [
    "net3 = SUnet(input_ch=1, out_ch=15, use_bn=True, enc_nf=enc_nf, dec_nf=dec_nf, ignore_last=False)\n",
    "\n",
    "logging.info(f'Network:\\n'\n",
    "             f'\\t{1} input channels\\n'\n",
    "             f'\\t{15} output channels (classes)\\n')\n",
    "\n",
    "net3.to(device=device)\n",
    "train_scores3, val_scores3, train_var_3, val_var_3 = train_net(net=net3,\n",
    "                                                                epochs=5,\n",
    "                                                                batch_size=args.batchsize,\n",
    "                                                                lr=args.lr,\n",
    "                                                                device=device,\n",
    "                                                                img_scale=args.scale,\n",
    "                                                                val_percent=args.val / 100,\n",
    "                                                                checkpoint=1,\n",
    "                                                                target_label_numbers=target_label_numbers,\n",
    "                                                                writer=writer,\n",
    "                                                                train_path=dir_train,\n",
    "                                                                val_path=dir_val)"
   ]
  },
  {
   "cell_type": "code",
   "execution_count": null,
   "metadata": {},
   "outputs": [],
   "source": [
    "net4 = SLNet(input_ch=1, out_ch=15, use_bn=True, superblock_size=64, depth=4)\n",
    "\n",
    "logging.info(f'Network:\\n'\n",
    "             f'\\t{1} input channels\\n'\n",
    "             f'\\t{15} output channels (classes)\\n')\n",
    "\n",
    "net4.to(device=device)\n",
    "train_scores4, val_scores4, train_var_4, val_var_4 = train_net(net=net4,\n",
    "                                                                epochs=5,\n",
    "                                                                batch_size=args.batchsize,\n",
    "                                                                lr=args.lr,\n",
    "                                                                device=device,\n",
    "                                                                img_scale=args.scale,\n",
    "                                                                val_percent=args.val / 100,\n",
    "                                                                checkpoint=2,\n",
    "                                                                target_label_numbers=target_label_numbers,\n",
    "                                                                writer=writer,\n",
    "                                                                train_path=dir_train,\n",
    "                                                                val_path=dir_val)"
   ]
  },
  {
   "cell_type": "code",
   "execution_count": null,
   "metadata": {},
   "outputs": [],
   "source": [
    "print(\"configuring combined plots\")\n",
    "domain = len(train_scores4)\n",
    "\n",
    "x_values = [i+1 for i in range(domain)]\n",
    "a1 = plt.subplot(2,2,1)\n",
    "a1.set_ylim([0, 0.5])\n",
    "plt.title(\"Simple TiedNet: 2,952,448 params\")\n",
    "plt.xlabel(\"Mini-epochs\")\n",
    "plt.ylabel(\"Dice Loss\")\n",
    "plt.plot(x_values, train_scores4, color=\"blue\", label=\"train\")\n",
    "plt.plot(x_values, val_scores4, color=\"orange\", label=\"val\")\n",
    "plt.legend()\n",
    "plt.grid()\n",
    "\n",
    "domain = len(train_scores3)\n",
    "a2 = plt.subplot(2,2,2)\n",
    "a2.set_ylim([0, 0.5])\n",
    "plt.title(\"Simple Net: 7,117,071 params\")\n",
    "plt.xlabel(\"Mini-epochs\")\n",
    "plt.ylabel(\"Dice Loss\")\n",
    "plt.plot(x_values, train_scores3, color=\"blue\", label=\"train\")\n",
    "plt.plot(x_values, val_scores3, color=\"orange\", label=\"val\")\n",
    "plt.legend()\n",
    "plt.grid()\n",
    "\n",
    "domain = len(train_scores1)\n",
    "a2 = plt.subplot(2,2,3)\n",
    "a2.set_ylim([0, 0.5])\n",
    "plt.title(\"Simple AENet: 7,117,071 params\")\n",
    "plt.xlabel(\"Mini-epochs\")\n",
    "plt.ylabel(\"Dice Loss\")\n",
    "plt.plot(x_values, train_scores1, color=\"blue\", label=\"train\")\n",
    "plt.plot(x_values, val_scores1, color=\"orange\", label=\"val\")\n",
    "plt.legend()\n",
    "plt.grid()\n",
    "\n",
    "domain = len(train_scores2)\n",
    "a2 = plt.subplot(2,2,4)\n",
    "a2.set_ylim([0, 0.5])\n",
    "plt.title(\"Tied Simple AENet: 7,117,071 params\")\n",
    "plt.xlabel(\"Mini-epochs\")\n",
    "plt.ylabel(\"Dice Loss\")\n",
    "plt.plot(x_values, train_scores2, color=\"blue\", label=\"train\")\n",
    "plt.plot(x_values, val_scores2, color=\"orange\", label=\"val\")\n",
    "plt.legend()\n",
    "plt.grid()\n",
    "\n",
    "\n",
    "plt.tight_layout()\n",
    "plt.show()\n",
    "plt.close()"
   ]
  }
 ],
 "metadata": {
  "kernelspec": {
   "display_name": "Python [conda env:sln] *",
   "language": "python",
   "name": "conda-env-sln-py"
  },
  "language_info": {
   "codemirror_mode": {
    "name": "ipython",
    "version": 3
   },
   "file_extension": ".py",
   "mimetype": "text/x-python",
   "name": "python",
   "nbconvert_exporter": "python",
   "pygments_lexer": "ipython3",
   "version": "3.6.6"
  }
 },
 "nbformat": 4,
 "nbformat_minor": 4
}
